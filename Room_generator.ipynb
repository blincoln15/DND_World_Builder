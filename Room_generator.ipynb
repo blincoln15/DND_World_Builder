{
  "nbformat": 4,
  "nbformat_minor": 0,
  "metadata": {
    "colab": {
      "provenance": [],
      "authorship_tag": "ABX9TyNseUcWtuLNMKokal0fCseG",
      "include_colab_link": true
    },
    "kernelspec": {
      "name": "python3",
      "display_name": "Python 3"
    },
    "language_info": {
      "name": "python"
    }
  },
  "cells": [
    {
      "cell_type": "markdown",
      "metadata": {
        "id": "view-in-github",
        "colab_type": "text"
      },
      "source": [
        "<a href=\"https://colab.research.google.com/github/blincoln15/DND_World_Builder/blob/main/Room_generator.ipynb\" target=\"_parent\"><img src=\"https://colab.research.google.com/assets/colab-badge.svg\" alt=\"Open In Colab\"/></a>"
      ]
    },
    {
      "cell_type": "markdown",
      "source": [
        "# Room Printer"
      ],
      "metadata": {
        "id": "38AtG6EQY2-7"
      }
    },
    {
      "cell_type": "code",
      "source": [
        "class Room:\n",
        "\n",
        "  # Initializer\n",
        "  def __init__(self, size):\n",
        "    self.size = size\n",
        "\n",
        "  def display(self):\n",
        "    if self.size == \"small\":\n",
        "      j = 5\n",
        "    elif self.size == \"medium\":\n",
        "      j = 7\n",
        "    elif self.size == \"large\":\n",
        "      j = 9\n",
        "\n",
        "    # print container\n",
        "    for i in range(j+2):\n",
        "      if (i == 0 | i == j+1):\n",
        "        for k in range(j+2):\n",
        "          print(\"* \", end=\"\")\n",
        "        print(\"\")\n",
        "      else:\n",
        "        print(\"* \", end=\"\")\n",
        "        for k in range(j):\n",
        "          print(\"  \", end=\"\")\n",
        "        print(\"*\", end=\"\")\n",
        "        print(\"\")\n",
        "      # print(\"\")\n"
      ],
      "metadata": {
        "id": "9LqtumJuY9tv"
      },
      "execution_count": 17,
      "outputs": []
    },
    {
      "cell_type": "markdown",
      "source": [
        "## Room Tester"
      ],
      "metadata": {
        "id": "bkuQtrGrYx1X"
      }
    },
    {
      "cell_type": "code",
      "source": [
        "# create Room Instances\n",
        "#smallRoom = Room(\"small\")\n",
        "#mediumRoom = Room(\"medium\")\n",
        "#largeRoom = Room(\"large\")\n",
        "\n",
        "# Call Display Instance method\n",
        "#smallRoom.display()\n",
        "#mediumRoom.display()\n",
        "#largeRoom.display()"
      ],
      "metadata": {
        "id": "7_lXGhzwaw9H"
      },
      "execution_count": 19,
      "outputs": []
    },
    {
      "cell_type": "markdown",
      "source": [
        "# Create Map of Dungeon"
      ],
      "metadata": {
        "id": "B8zaoBIswv67"
      }
    },
    {
      "cell_type": "code",
      "source": [
        "import sys\n",
        "\n",
        "class Map:\n",
        "  def __init__(self, height, width, player_x, player_y, paths):\n",
        "    self.height = height\n",
        "    self.width = width\n",
        "    self.x = player_x\n",
        "    self.y = player_y\n",
        "    self.paths = paths\n",
        "\n",
        "  def move(self, direction):\n",
        "    if direction == \"n\":\n",
        "      self.y -= 1\n",
        "    if direction == \"s\":\n",
        "      self.y += 1\n",
        "    if direction == \"e\":\n",
        "      self.x += 1\n",
        "    if direction == \"w\":\n",
        "      self.x -= 1\n",
        "\n",
        "  def print_map(self):\n",
        "    for y in range(0, self.height):\n",
        "            # print the yth row of rooms\n",
        "            for x in range(0, self.width):\n",
        "                if self.x == x and self.y == y:\n",
        "                    sys.stdout.write(\"[u]\")  # this is the player's room\n",
        "                else:\n",
        "                    sys.stdout.write(\"[ ]\")  # empty room\n",
        "                # now see whether there's a path to the next room\n",
        "                if ((x, y), (x + 1, y)) in self.paths:\n",
        "                    sys.stdout.write(\"-\")\n",
        "                else:\n",
        "                    sys.stdout.write(\" \")\n",
        "            # now that we've written the rooms, draw paths to next row\n",
        "            print()  # newline\n",
        "            for x in range(0, self.width):\n",
        "                sys.stdout.write(\" \")  # spaces for above room\n",
        "                if ((x, y), (x, y + 1)) in self.paths:\n",
        "                    sys.stdout.write(\"|  \")\n",
        "                else:\n",
        "                    sys.stdout.write(\"   \")\n",
        "            print()\n",
        ""
      ],
      "metadata": {
        "id": "mHTgUiRAwywx"
      },
      "execution_count": 25,
      "outputs": []
    },
    {
      "cell_type": "code",
      "source": [
        "paths = [((0, 0), (1, 0)), ((0, 0), (1, 0)), ((1, 0), (1, 1)), ((1, 1),\n",
        "         (2, 1)), ((1, 1), (1, 2)), ((0, 2), (1, 2)), ((1, 2), (2, 2)),\n",
        "         ((0, 2), (0, 3)), ((0, 3), (1, 3)), ((1, 3), (2, 3)), ((2, 3),\n",
        "         (3, 3))]\n",
        "m = Map(4, 4, 0, 0, paths)\n",
        "\n",
        "while True:\n",
        "    m.print_map()\n",
        "    direction = input(\"What direction do you want to move? [n/e/s/w] \")\n",
        "    m.move(direction)"
      ],
      "metadata": {
        "colab": {
          "base_uri": "https://localhost:8080/",
          "height": 807
        },
        "id": "yjUT-Xj7yDBs",
        "outputId": "82830606-619f-4c1a-e3f7-57c8d42e5d74"
      },
      "execution_count": 26,
      "outputs": [
        {
          "output_type": "stream",
          "name": "stdout",
          "text": [
            "[u]-[ ] [ ] [ ] \n",
            "     |          \n",
            "[ ] [ ]-[ ] [ ] \n",
            "     |          \n",
            "[ ]-[ ]-[ ] [ ] \n",
            " |              \n",
            "[ ]-[ ]-[ ]-[ ] \n",
            "                \n",
            "What direction do you want to move? [n/e/s/w] e\n",
            "[ ]-[u] [ ] [ ] \n",
            "     |          \n",
            "[ ] [ ]-[ ] [ ] \n",
            "     |          \n",
            "[ ]-[ ]-[ ] [ ] \n",
            " |              \n",
            "[ ]-[ ]-[ ]-[ ] \n",
            "                \n",
            "What direction do you want to move? [n/e/s/w] s\n",
            "[ ]-[ ] [ ] [ ] \n",
            "     |          \n",
            "[ ] [u]-[ ] [ ] \n",
            "     |          \n",
            "[ ]-[ ]-[ ] [ ] \n",
            " |              \n",
            "[ ]-[ ]-[ ]-[ ] \n",
            "                \n"
          ]
        },
        {
          "output_type": "error",
          "ename": "KeyboardInterrupt",
          "evalue": "Interrupted by user",
          "traceback": [
            "\u001b[0;31m---------------------------------------------------------------------------\u001b[0m",
            "\u001b[0;31mKeyboardInterrupt\u001b[0m                         Traceback (most recent call last)",
            "\u001b[0;32m<ipython-input-26-d7963dcd02de>\u001b[0m in \u001b[0;36m<cell line: 7>\u001b[0;34m()\u001b[0m\n\u001b[1;32m      7\u001b[0m \u001b[0;32mwhile\u001b[0m \u001b[0;32mTrue\u001b[0m\u001b[0;34m:\u001b[0m\u001b[0;34m\u001b[0m\u001b[0;34m\u001b[0m\u001b[0m\n\u001b[1;32m      8\u001b[0m     \u001b[0mm\u001b[0m\u001b[0;34m.\u001b[0m\u001b[0mprint_map\u001b[0m\u001b[0;34m(\u001b[0m\u001b[0;34m)\u001b[0m\u001b[0;34m\u001b[0m\u001b[0;34m\u001b[0m\u001b[0m\n\u001b[0;32m----> 9\u001b[0;31m     \u001b[0mdirection\u001b[0m \u001b[0;34m=\u001b[0m \u001b[0minput\u001b[0m\u001b[0;34m(\u001b[0m\u001b[0;34m\"What direction do you want to move? [n/e/s/w] \"\u001b[0m\u001b[0;34m)\u001b[0m\u001b[0;34m\u001b[0m\u001b[0;34m\u001b[0m\u001b[0m\n\u001b[0m\u001b[1;32m     10\u001b[0m     \u001b[0mm\u001b[0m\u001b[0;34m.\u001b[0m\u001b[0mmove\u001b[0m\u001b[0;34m(\u001b[0m\u001b[0mdirection\u001b[0m\u001b[0;34m)\u001b[0m\u001b[0;34m\u001b[0m\u001b[0;34m\u001b[0m\u001b[0m\n",
            "\u001b[0;32m/usr/local/lib/python3.10/dist-packages/ipykernel/kernelbase.py\u001b[0m in \u001b[0;36mraw_input\u001b[0;34m(self, prompt)\u001b[0m\n\u001b[1;32m    849\u001b[0m                 \u001b[0;34m\"raw_input was called, but this frontend does not support input requests.\"\u001b[0m\u001b[0;34m\u001b[0m\u001b[0;34m\u001b[0m\u001b[0m\n\u001b[1;32m    850\u001b[0m             )\n\u001b[0;32m--> 851\u001b[0;31m         return self._input_request(str(prompt),\n\u001b[0m\u001b[1;32m    852\u001b[0m             \u001b[0mself\u001b[0m\u001b[0;34m.\u001b[0m\u001b[0m_parent_ident\u001b[0m\u001b[0;34m,\u001b[0m\u001b[0;34m\u001b[0m\u001b[0;34m\u001b[0m\u001b[0m\n\u001b[1;32m    853\u001b[0m             \u001b[0mself\u001b[0m\u001b[0;34m.\u001b[0m\u001b[0m_parent_header\u001b[0m\u001b[0;34m,\u001b[0m\u001b[0;34m\u001b[0m\u001b[0;34m\u001b[0m\u001b[0m\n",
            "\u001b[0;32m/usr/local/lib/python3.10/dist-packages/ipykernel/kernelbase.py\u001b[0m in \u001b[0;36m_input_request\u001b[0;34m(self, prompt, ident, parent, password)\u001b[0m\n\u001b[1;32m    893\u001b[0m             \u001b[0;32mexcept\u001b[0m \u001b[0mKeyboardInterrupt\u001b[0m\u001b[0;34m:\u001b[0m\u001b[0;34m\u001b[0m\u001b[0;34m\u001b[0m\u001b[0m\n\u001b[1;32m    894\u001b[0m                 \u001b[0;31m# re-raise KeyboardInterrupt, to truncate traceback\u001b[0m\u001b[0;34m\u001b[0m\u001b[0;34m\u001b[0m\u001b[0m\n\u001b[0;32m--> 895\u001b[0;31m                 \u001b[0;32mraise\u001b[0m \u001b[0mKeyboardInterrupt\u001b[0m\u001b[0;34m(\u001b[0m\u001b[0;34m\"Interrupted by user\"\u001b[0m\u001b[0;34m)\u001b[0m \u001b[0;32mfrom\u001b[0m \u001b[0;32mNone\u001b[0m\u001b[0;34m\u001b[0m\u001b[0;34m\u001b[0m\u001b[0m\n\u001b[0m\u001b[1;32m    896\u001b[0m             \u001b[0;32mexcept\u001b[0m \u001b[0mException\u001b[0m \u001b[0;32mas\u001b[0m \u001b[0me\u001b[0m\u001b[0;34m:\u001b[0m\u001b[0;34m\u001b[0m\u001b[0;34m\u001b[0m\u001b[0m\n\u001b[1;32m    897\u001b[0m                 \u001b[0mself\u001b[0m\u001b[0;34m.\u001b[0m\u001b[0mlog\u001b[0m\u001b[0;34m.\u001b[0m\u001b[0mwarning\u001b[0m\u001b[0;34m(\u001b[0m\u001b[0;34m\"Invalid Message:\"\u001b[0m\u001b[0;34m,\u001b[0m \u001b[0mexc_info\u001b[0m\u001b[0;34m=\u001b[0m\u001b[0;32mTrue\u001b[0m\u001b[0;34m)\u001b[0m\u001b[0;34m\u001b[0m\u001b[0;34m\u001b[0m\u001b[0m\n",
            "\u001b[0;31mKeyboardInterrupt\u001b[0m: Interrupted by user"
          ]
        }
      ]
    }
  ]
}